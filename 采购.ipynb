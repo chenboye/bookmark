{
 "cells": [
  {
   "cell_type": "code",
   "execution_count": 16,
   "metadata": {},
   "outputs": [],
   "source": [
    "url = ( 'https://i-item.jd.com/100010309829.html#crumb-wrap',\n",
    "'https://item.jd.com/100000111619.html',\n",
    "'https://item.jd.com/100002459600.html',\n",
    "'https://item.jd.com/100004394326.html',\n",
    "'https://item.jd.com/100004770612.html',\n",
    "'https://item.jd.com/100006202203.html',\n",
    "'https://item.jd.com/100006501463.html',\n",
    "'https://item.jd.com/100006967636.html#crumb-wrap',\n",
    "'https://item.jd.com/100007171390.html#none',\n",
    "'https://item.jd.com/100007385962.html#crumb-wrap',\n",
    "'https://item.jd.com/100008408633.html',\n",
    "'https://item.jd.com/100008520913.html#crumb-wrap',\n",
    "'https://item.jd.com/100009558044.html#crumb-wrap',\n",
    "'https://item.jd.com/100012201798.html',\n",
    "'https://item.jd.com/100014710820.html',\n",
    "'https://item.jd.com/100019793774.html#crumb-wrap',\n",
    "'https://item.jd.com/10021317933924.html#crumb-wrap',\n",
    "'https://item.jd.com/10021971042672.html#crumb-wrap',\n",
    "'https://item.jd.com/10023294774771.html#crumb-wrap',\n",
    "'https://item.jd.com/10023733131057.html',\n",
    "'https://item.jd.com/1260617.html',\n",
    "'https://item.jd.com/1276556.html',\n",
    "'https://item.jd.com/1310035.html',\n",
    "'https://item.jd.com/1438285.html',\n",
    "'https://item.jd.com/1876453.html',\n",
    "'https://item.jd.com/2187062.html',\n",
    "'https://item.jd.com/3639293.html#none',\n",
    "'https://item.jd.com/3697092.html',\n",
    "'https://item.jd.com/41559849369.html#crumb-wrap',\n",
    "'https://item.jd.com/4974198.html',\n",
    "'https://item.jd.com/5335580.html',\n",
    "'https://item.jd.com/5572490.html',\n",
    "'https://item.jd.com/5588141.html',\n",
    "'https://item.jd.com/5746660.html',\n",
    "'https://item.jd.com/5746670.html',\n",
    "'https://item.jd.com/6214803.html',\n",
    "'https://item.jd.com/65713608454.html',\n",
    "'https://item.jd.com/70658567102.html#crumb-wrap',\n",
    "'https://item.jd.com/7819778.html',\n",
    "'https://item.jd.com/927647.html#crumb-wrap'\n",
    ")\n",
    "\n",
    "from selenium import webdriver\n",
    "from selenium.webdriver.common.keys import Keys\n",
    "from selenium.webdriver.common.action_chains import ActionChains\n",
    "#新建标签页\n",
    "\n",
    "browser = webdriver.Chrome(executable_path=r\"C:\\Users\\bbx\\AppData\\Local\\Google\\Chrome\\Application\\chromedriver.exe\")\n",
    "browser.get(\"https://www.baidu.com\")\n",
    "for u in url :\n",
    "    js = \" window.open('\"+u+\"')\" #可以看到是打开新的标签页 不是窗口\n",
    "    browser.execute_script(js)\n",
    "browser.close()#关掉第一个页面"
   ]
  },
  {
   "cell_type": "code",
   "execution_count": null,
   "metadata": {},
   "outputs": [],
   "source": []
  }
 ],
 "metadata": {
  "kernelspec": {
   "display_name": "Python 3",
   "language": "python",
   "name": "python3"
  },
  "language_info": {
   "codemirror_mode": {
    "name": "ipython",
    "version": 3
   },
   "file_extension": ".py",
   "mimetype": "text/x-python",
   "name": "python",
   "nbconvert_exporter": "python",
   "pygments_lexer": "ipython3",
   "version": "3.6.4"
  }
 },
 "nbformat": 4,
 "nbformat_minor": 2
}
